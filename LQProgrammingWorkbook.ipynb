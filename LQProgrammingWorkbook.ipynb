{
 "cells": [
  {
   "cell_type": "markdown",
   "metadata": {},
   "source": [
    "# LQ PROGRAMMING WORKBOOK"
   ]
  },
  {
   "cell_type": "markdown",
   "metadata": {},
   "source": [
    "## Setting up the Law of Motion"
   ]
  },
  {
   "cell_type": "markdown",
   "metadata": {},
   "source": [
    "#### Law of motion:"
   ]
  },
  {
   "cell_type": "markdown",
   "metadata": {},
   "source": [
    "\\begin{equation}\n",
    "x_{t+1} = Ax_{t} + Bu_{t} + Cw_{t+1}\n",
    "\\end{equation}"
   ]
  },
  {
   "cell_type": "markdown",
   "metadata": {},
   "source": [
    "set $\\mathbf{y_{t} := \\boldsymbol{\\sigma} w_{t+1} + \\boldsymbol{\\mu}}$ and $\\mathbf{u_{t} := c_{t}-\\bar{c}}$"
   ]
  },
  {
   "cell_type": "markdown",
   "metadata": {},
   "source": [
    "\\begin{equation}\n",
    "x_{t+1}:=\\bigg(\\begin{matrix}\n",
    "a_{t+1}\\\\\n",
    "1\n",
    "\\end{matrix}\\bigg) =\n",
    "\\bigg(\\begin{matrix}\n",
    "1+r & -\\bar{c}+\\mu\\\\\n",
    "0 & 1 \n",
    "\\end{matrix}\\bigg)\n",
    "\\bigg(\\begin{matrix}\n",
    "a_{t}\\\\\n",
    "1\n",
    "\\end{matrix}\\bigg) +\n",
    "\\bigg(\\begin{matrix}\n",
    "-1\\\\\n",
    "0\n",
    "\\end{matrix}\\bigg)u_{t} +\n",
    "\\bigg(\\begin{matrix}\n",
    "\\sigma\\\\\n",
    "0\n",
    "\\end{matrix}\\bigg)w_{t+1}\n",
    "\\end{equation}"
   ]
  },
  {
   "cell_type": "markdown",
   "metadata": {},
   "source": [
    "### EXERCISE 1: write code to generate matrices A, B and C for the Law of Motion in the cell below\n"
   ]
  },
  {
   "cell_type": "code",
   "execution_count": 6,
   "metadata": {
    "collapsed": false
   },
   "outputs": [],
   "source": [
    "#CODE IT HERE:\n",
    "# == Import Extra Packages ==#\n",
    "# INSERT CODE HERE!\n",
    "\n",
    "\n",
    "# == Model parameters == #\n",
    "r       = 0.05\n",
    "c_bar   = 2\n",
    "mu      = 1 \n",
    "sigma   = 0.25\n",
    "\n",
    "\n",
    "# == Formulate as an LQ problem == #\n",
    "# INSERT CODE HERE!\n",
    "\n",
    "\n",
    "\n",
    "\n",
    "\n",
    "\n",
    "# === Print out matrices, and their dimensions (or shape) == #\n",
    "# INSERT CODE HERE!\n",
    "\n",
    "\n",
    "\n",
    "\n",
    "\n",
    "\n"
   ]
  },
  {
   "cell_type": "markdown",
   "metadata": {},
   "source": [
    "## Setting up the preferences"
   ]
  },
  {
   "cell_type": "markdown",
   "metadata": {},
   "source": [
    "####Preferences:"
   ]
  },
  {
   "cell_type": "markdown",
   "metadata": {},
   "source": [
    "\\begin{equation}\n",
    "x_{t}'R x_{t} + u_{t}'Q u_{t}\n",
    "\\end{equation}\n",
    "                                                                                                                                                                                                                                                                                    \n",
    "                                                                                                                                                                                                                \n",
    "                                                                                                                                                                                                                                                                                    "
   ]
  },
  {
   "cell_type": "markdown",
   "metadata": {},
   "source": [
    "We want to penalise squared deviations from 'bliss level' consumption, i.e. $\\mathbf{c_{t} - \\bar{c}}$, but don't care what value the state variable takes. Remember that our control is $\\mathbf{u_{t} := c_{t}-\\bar{c}}$."
   ]
  },
  {
   "cell_type": "markdown",
   "metadata": {},
   "source": [
    "### EXERCISE 2: write code to generate $Q$ and $R$ matrices in the cell below:"
   ]
  },
  {
   "cell_type": "code",
   "execution_count": 7,
   "metadata": {
    "collapsed": false
   },
   "outputs": [],
   "source": [
    "# == Formulate as an LQ problem == #\n",
    "# INSERT CODE HERE!\n",
    "\n",
    "\n",
    "\n",
    "\n",
    "# === Print out matrices, and their dimensions (or shape) == #\n",
    "# INSERT CODE HERE!\n",
    "\n",
    "\n",
    "\n",
    "\n"
   ]
  },
  {
   "cell_type": "markdown",
   "metadata": {},
   "source": [
    "##Optimality: Finite Horizon"
   ]
  },
  {
   "cell_type": "markdown",
   "metadata": {},
   "source": [
    "#### FINITE HORIZON Objective function: "
   ]
  },
  {
   "cell_type": "markdown",
   "metadata": {},
   "source": [
    "\\begin{equation}\n",
    "E \\bigg\\{\\sum_{t=0}^{T-1} \\beta^{t}(x_{t}'R x_{t} + u_{t}'Q u_{t}) + \\beta^{T}x_{T}'R_{f}x_{T} \\bigg\\} \\quad \\quad \\quad (1)\n",
    "\\end{equation}\n",
    "                                                                                                                                                                                                                                                                                    \n",
    "                                                                                                                                                                                                                \n",
    "                                                                                                                                                                                                                                                                                    "
   ]
  },
  {
   "cell_type": "markdown",
   "metadata": {},
   "source": [
    "#### In our setup, we want to minimise:"
   ]
  },
  {
   "cell_type": "markdown",
   "metadata": {},
   "source": [
    "\\begin{equation}\n",
    "E\\bigg\\{\\sum_{t=0}^{T-1}\\beta^{t}(c_{t}-\\bar{c})^{2} + \\beta^{T}qa_{T}^{2}\\bigg\\} \\quad \\quad \\quad (2)\n",
    "\\end{equation}\n",
    "\n",
    "\\begin{align}\n",
    "& \\text{s.t.} \\\\\n",
    "& x_{t+1}= Ax_{t} + Bu_{t} + Cw_{t}, \\quad t\\geq0 \\\\\n",
    "& x_{0} \\quad \\text{given}\n",
    "\\end{align}\n",
    "\n"
   ]
  },
  {
   "cell_type": "markdown",
   "metadata": {},
   "source": [
    "Here $q$ is a large positive constant, the role of which is to induce the consumer to target zero debt at the end of her life.\n",
    "\n",
    "We already have a lot of this problem set up, since we already coded up the law of motion, and have the $R$ and $Q$ matrices. Map equation (2) into the FINITE HORIZON objective function (1) by adding $R_{f}$:"
   ]
  },
  {
   "cell_type": "markdown",
   "metadata": {},
   "source": [
    "\\begin{equation}\n",
    "R_{f}=\\bigg(\\begin{matrix}\n",
    "        q&0\\\\\n",
    "        0&0\\end{matrix}\\bigg)\n",
    "\\end{equation}"
   ]
  },
  {
   "cell_type": "markdown",
   "metadata": {},
   "source": [
    "## EXERCISE 3: write code to generate the $R_f$ matrix in the cell below:"
   ]
  },
  {
   "cell_type": "code",
   "execution_count": 8,
   "metadata": {
    "collapsed": false
   },
   "outputs": [],
   "source": [
    "# == Model parameters == #\n",
    "T       = 45\n",
    "beta    = 1 / (1 + r)\n",
    "q       = 1e6\n",
    "\n",
    "\n",
    "# == Formulate as an LQ problem == #\n",
    "# INSERT CODE HERE!\n",
    "\n",
    "\n",
    "\n",
    "\n",
    "\n",
    "# === Print out matrix, and its dimensions (or shape) == #\n",
    "# INSERT CODE HERE!\n",
    "\n",
    "\n",
    "\n"
   ]
  },
  {
   "cell_type": "markdown",
   "metadata": {},
   "source": [
    "# THE CODE TO SOLVE LQ PROBLEMS!"
   ]
  },
  {
   "cell_type": "code",
   "execution_count": 9,
   "metadata": {
    "collapsed": false
   },
   "outputs": [],
   "source": [
    "\"\"\"\n",
    "Filename: lqcontrol.py\n",
    "\n",
    "Authors: Thomas J. Sargent, John Stachurski\n",
    "\n",
    "Provides a class called LQ for solving linear quadratic control\n",
    "problems.\n",
    "\n",
    "\"\"\"\n",
    "from textwrap import dedent\n",
    "import numpy as np\n",
    "from numpy import dot\n",
    "from scipy.linalg import solve\n",
    "from quantecon.matrix_eqn import solve_discrete_riccati\n",
    "\n",
    "\n",
    "class LQ(object):\n",
    "    r\"\"\"\n",
    "    This class is for analyzing linear quadratic optimal control\n",
    "    problems of either the infinite horizon form\n",
    "\n",
    "    .     min E sum_{t=0}^{\\infty} beta^t r(x_t, u_t)\n",
    "\n",
    "    with\n",
    "\n",
    "         r(x_t, u_t) := x_t' R x_t + u_t' Q u_t + 2 u_t' N x_t\n",
    "\n",
    "    or the finite horizon form\n",
    "\n",
    "         min E sum_{t=0}^{T-1} beta^t r(x_t, u_t) + beta^T x_T' R_f x_T\n",
    "\n",
    "    Both are minimized subject to the law of motion\n",
    "\n",
    "         x_{t+1} = A x_t + B u_t + C w_{t+1}\n",
    "\n",
    "    Here x is n x 1, u is k x 1, w is j x 1 and the matrices are\n",
    "    conformable for these dimensions.  The sequence {w_t} is assumed to\n",
    "    be white noise, with zero mean and E w_t w_t = I, the j x j\n",
    "    identity.\n",
    "\n",
    "    If C is not supplied as a parameter, the model is assumed to be\n",
    "    deterministic (and C is set to a zero matrix of appropriate\n",
    "    dimension).\n",
    "\n",
    "    For this model, the time t value (i.e., cost-to-go) function V_t\n",
    "    takes the form\n",
    "\n",
    "         x' P_T x + d_T\n",
    "\n",
    "    and the optimal policy is of the form u_T = -F_T x_T.  In\n",
    "    the infinite horizon case, V, P, d and F are all stationary.\n",
    "\n",
    "    Parameters\n",
    "    ----------\n",
    "    Q : array_like(float)\n",
    "        Q is the payoff(or cost) matrix that corresponds with the\n",
    "        control variable u and is k x k. Should be symmetric and\n",
    "        nonnegative definite\n",
    "    R : array_like(float)\n",
    "        R is the payoff(or cost) matrix that corresponds with the\n",
    "        state variable x and is n x n. Should be symetric and\n",
    "        non-negative definite\n",
    "    N : array_like(float)\n",
    "        N is the cross product term in the payoff, as above.  It should\n",
    "        be k x n.\n",
    "    A : array_like(float)\n",
    "        A is part of the state transition as described above. It should\n",
    "        be n x n\n",
    "    B : array_like(float)\n",
    "        B is part of the state transition as described above. It should\n",
    "        be n x k\n",
    "    C : array_like(float), optional(default=None)\n",
    "        C is part of the state transition as described above and\n",
    "        corresponds to the random variable today.  If the model is\n",
    "        deterministic then C should take default value of None\n",
    "    beta : scalar(float), optional(default=1)\n",
    "        beta is the discount parameter\n",
    "    T : scalar(int), optional(default=None)\n",
    "        T is the number of periods in a finite horizon problem.\n",
    "    Rf : array_like(float), optional(default=None)\n",
    "        Rf is the final (in a finite horizon model) payoff(or cost)\n",
    "        matrix that corresponds with the control variable u and is n x\n",
    "        n.  Should be symetric and non-negative definite\n",
    "\n",
    "\n",
    "    Attributes\n",
    "    ----------\n",
    "    Q, R, N, A, B, C, beta, T, Rf : see Parameters\n",
    "    P : array_like(float)\n",
    "        P is part of the value function representation of V(x) = x'Px + d\n",
    "    d : array_like(float)\n",
    "        d is part of the value function representation of V(x) = x'Px + d\n",
    "    F : array_like(float)\n",
    "        F is the policy rule that determines the choice of control in\n",
    "        each period.\n",
    "    k, n, j : scalar(int)\n",
    "        The dimensions of the matrices as presented above\n",
    "\n",
    "    \"\"\"\n",
    "\n",
    "    def __init__(self, Q, R, A, B, C=None, N=None, beta=1, T=None, Rf=None):\n",
    "        # == Make sure all matrices can be treated as 2D arrays == #\n",
    "        converter = lambda X: np.atleast_2d(np.asarray(X, dtype='float32'))\n",
    "        self.A, self.B, self.Q, self.R, self.N = list(map(converter,\n",
    "                                                          (A, B, Q, R, N)))\n",
    "        # == Record dimensions == #\n",
    "        self.k, self.n = self.Q.shape[0], self.R.shape[0]\n",
    "\n",
    "        self.beta = beta\n",
    "\n",
    "        if C is None:\n",
    "            # == If C not given, then model is deterministic. Set C=0. == #\n",
    "            self.j = 1\n",
    "            self.C = np.zeros((self.n, self.j))\n",
    "        else:\n",
    "            self.C = converter(C)\n",
    "            self.j = self.C.shape[1]\n",
    "\n",
    "        if N is None:\n",
    "            # == No cross product term in payoff. Set N=0. == #\n",
    "            self.N = np.zeros((self.k, self.n))\n",
    "\n",
    "        if T:\n",
    "            # == Model is finite horizon == #\n",
    "            self.T = T\n",
    "            self.Rf = np.asarray(Rf, dtype='float32')\n",
    "            self.P = self.Rf\n",
    "            self.d = 0\n",
    "        else:\n",
    "            self.P = None\n",
    "            self.d = None\n",
    "            self.T = None\n",
    "\n",
    "        self.F = None\n",
    "\n",
    "    def __repr__(self):\n",
    "        return self.__str__()\n",
    "\n",
    "    def __str__(self):\n",
    "        m = \"\"\"\\\n",
    "        Linear Quadratic control system\n",
    "          - beta (discount parameter)   : {b}\n",
    "          - T (time horizon)            : {t}\n",
    "          - n (number of state variables)   : {n}\n",
    "          - k (number of control variables) : {k}\n",
    "          - j (number of shocks)            : {j}\n",
    "        \"\"\"\n",
    "        t = \"infinite\" if self.T is None else self.T\n",
    "        return dedent(m.format(b=self.beta, n=self.n, k=self.k, j=self.j,\n",
    "                               t=t))\n",
    "\n",
    "    def update_values(self):\n",
    "        \"\"\"\n",
    "        This method is for updating in the finite horizon case.  It\n",
    "        shifts the current value function\n",
    "\n",
    "             V_t(x) = x' P_t x + d_t\n",
    "\n",
    "        and the optimal policy F_t one step *back* in time,\n",
    "        replacing the pair P_t and d_t with\n",
    "        P_{t-1} and d_{t-1}, and F_t with\n",
    "        F_{t-1}\n",
    "\n",
    "        \"\"\"\n",
    "        # === Simplify notation === #\n",
    "        Q, R, A, B, N, C = self.Q, self.R, self.A, self.B, self.N, self.C\n",
    "        P, d = self.P, self.d\n",
    "        # == Some useful matrices == #\n",
    "        S1 = Q + self.beta * dot(B.T, dot(P, B))\n",
    "        S2 = self.beta * dot(B.T, dot(P, A)) + N\n",
    "        S3 = self.beta * dot(A.T, dot(P, A))\n",
    "        # == Compute F as (Q + B'PB)^{-1} (beta B'PA + N) == #\n",
    "        self.F = solve(S1, S2)\n",
    "        # === Shift P back in time one step == #\n",
    "        new_P = R - dot(S2.T, self.F) + S3\n",
    "        # == Recalling that trace(AB) = trace(BA) == #\n",
    "        new_d = self.beta * (d + np.trace(dot(P, dot(C, C.T))))\n",
    "        # == Set new state == #\n",
    "        self.P, self.d = new_P, new_d\n",
    "\n",
    "    def stationary_values(self):\n",
    "        \"\"\"\n",
    "        Computes the matrix P and scalar d that represent the value\n",
    "        function\n",
    "\n",
    "             V(x) = x' P x + d\n",
    "\n",
    "        in the infinite horizon case.  Also computes the control matrix\n",
    "        F from u = - Fx\n",
    "\n",
    "        Returns\n",
    "        -------\n",
    "        P : array_like(float)\n",
    "            P is part of the value function representation of\n",
    "            V(x) = xPx + d\n",
    "        F : array_like(float)\n",
    "            F is the policy rule that determines the choice of control\n",
    "            in each period.\n",
    "        d : array_like(float)\n",
    "            d is part of the value function representation of\n",
    "            V(x) = xPx + d\n",
    "\n",
    "        \"\"\"\n",
    "        # === simplify notation === #\n",
    "        Q, R, A, B, N, C = self.Q, self.R, self.A, self.B, self.N, self.C\n",
    "\n",
    "        # === solve Riccati equation, obtain P === #\n",
    "        A0, B0 = np.sqrt(self.beta) * A, np.sqrt(self.beta) * B\n",
    "        P = solve_discrete_riccati(A0, B0, R, Q, N)\n",
    "\n",
    "        # == Compute F == #\n",
    "        S1 = Q + self.beta * dot(B.T, dot(P, B))\n",
    "        S2 = self.beta * dot(B.T, dot(P, A)) + N\n",
    "        F = solve(S1, S2)\n",
    "\n",
    "        # == Compute d == #\n",
    "        d = self.beta * np.trace(dot(P, dot(C, C.T))) / (1 - self.beta)\n",
    "\n",
    "        # == Bind states and return values == #\n",
    "        self.P, self.F, self.d = P, F, d\n",
    "\n",
    "        return P, F, d\n",
    "\n",
    "    def compute_sequence(self, x0, ts_length=None):\n",
    "        \"\"\"\n",
    "        Compute and return the optimal state and control sequences\n",
    "        x_0, ..., x_T and u_0,..., u_T  under the\n",
    "        assumption that {w_t} is iid and N(0, 1).\n",
    "\n",
    "        Parameters\n",
    "        ===========\n",
    "        x0 : array_like(float)\n",
    "            The initial state, a vector of length n\n",
    "\n",
    "        ts_length : scalar(int)\n",
    "            Length of the simulation -- defaults to T in finite case\n",
    "\n",
    "        Returns\n",
    "        ========\n",
    "        x_path : array_like(float)\n",
    "            An n x T matrix, where the t-th column represents x_t\n",
    "\n",
    "        u_path : array_like(float)\n",
    "            A k x T matrix, where the t-th column represents u_t\n",
    "\n",
    "        w_path : array_like(float)\n",
    "            A j x T matrix, where the t-th column represent w_t\n",
    "\n",
    "        \"\"\"\n",
    "\n",
    "        # === Simplify notation === #\n",
    "        A, B, C = self.A, self.B, self.C\n",
    "\n",
    "        # == Preliminaries, finite horizon case == #\n",
    "        if self.T:\n",
    "            T = self.T if not ts_length else min(ts_length, self.T)\n",
    "            self.P, self.d = self.Rf, 0\n",
    "\n",
    "        # == Preliminaries, infinite horizon case == #\n",
    "        else:\n",
    "            T = ts_length if ts_length else 100\n",
    "            self.stationary_values()\n",
    "\n",
    "        # == Set up initial condition and arrays to store paths == #\n",
    "        x0 = np.asarray(x0)\n",
    "        x0 = x0.reshape(self.n, 1)  # Make sure x0 is a column vector\n",
    "        x_path = np.empty((self.n, T+1))\n",
    "        u_path = np.empty((self.k, T))\n",
    "        w_path = dot(C, np.random.randn(self.j, T+1))\n",
    "\n",
    "        # == Compute and record the sequence of policies == #\n",
    "        policies = []\n",
    "        for t in range(T):\n",
    "            if self.T:  # Finite horizon case\n",
    "                self.update_values()\n",
    "            policies.append(self.F)\n",
    "\n",
    "        # == Use policy sequence to generate states and controls == #\n",
    "        F = policies.pop()\n",
    "        x_path[:, 0] = x0.flatten()\n",
    "        u_path[:, 0] = - dot(F, x0).flatten()\n",
    "        for t in range(1, T):\n",
    "            F = policies.pop()\n",
    "            Ax, Bu = dot(A, x_path[:, t-1]), dot(B, u_path[:, t-1])\n",
    "            x_path[:, t] = Ax + Bu + w_path[:, t]\n",
    "            u_path[:, t] = - dot(F, x_path[:, t])\n",
    "        Ax, Bu = dot(A, x_path[:, T-1]), dot(B, u_path[:, T-1])\n",
    "        x_path[:, T] = Ax + Bu + w_path[:, T]\n",
    "\n",
    "        return x_path, u_path, w_path"
   ]
  },
  {
   "cell_type": "markdown",
   "metadata": {
    "collapsed": true
   },
   "source": [
    "## Notes on the code"
   ]
  },
  {
   "cell_type": "markdown",
   "metadata": {},
   "source": [
    "In the module, the various updating, simulation and fixed point methods are wrapped in a class called LQ, which includes\n",
    "\n",
    "Instance data:\n",
    "\n",
    "* The required parameters $Q,R,A,B$ and optional parameters $C,\\beta,T,R_{f}, N$ specifying a given LQ model\n",
    "    * set $T$ and $R_{f}$ to None in the infinite horizon case\n",
    "    * set $C =$ None (or zero) in the deterministic case\n",
    "    \n",
    "    \n",
    "* The value function and policy data\n",
    "    * $d_{t},P_{t},F_{t}$ in the finite horizon case\n",
    "    * $d,P,F$ in the infinite horizon case\n",
    "\n",
    "\n",
    "Methods:\n",
    "* update_values — shifts $d_{t},P_{t},F_{t}$ to their $t−1$ values\n",
    "* stationary_values — computes $P,d,F$ in the infinite horizon case\n",
    "* compute_sequence —- simulates the dynamics of $x_{t},u_{t},w_{t}$ given $x_{0}$ and assuming standard normal shocks"
   ]
  },
  {
   "cell_type": "markdown",
   "metadata": {},
   "source": [
    "## So let's see what our model does!"
   ]
  },
  {
   "cell_type": "code",
   "execution_count": null,
   "metadata": {
    "collapsed": false
   },
   "outputs": [],
   "source": [
    "# == Import Extra Packages ==#\n",
    "import matplotlib.pyplot as plt\n",
    "%matplotlib.inline\n",
    "from quantecon import LQ\n",
    "\n",
    "\n",
    "# == Compute solutions and simulate == #\n",
    "# Call the LQ class and feed it all of our matrices\n",
    "lq = LQ(Q, R, A, B, C, beta=beta, T=T, Rf=Rf)\n",
    "# We need an initial condition\n",
    "x0 = (0, 1)\n",
    "# One of the methods of our class is able to create a simulation\n",
    "xp, up, wp = lq.compute_sequence(x0)\n",
    "\n",
    "# == Convert back to assets, consumption and income == #\n",
    "assets = xp[0, :]           # a_t\n",
    "c = up.flatten() + c_bar    # c_t\n",
    "income = wp[0, 1:] + mu     # y_t\n",
    "\n",
    "# == Plot results == #\n",
    "n_rows = 2\n",
    "fig, axes = plt.subplots(n_rows, 1, figsize=(12, 10))\n",
    "\n",
    "plt.subplots_adjust(hspace=0.5)\n",
    "for i in range(n_rows):\n",
    "    axes[i].grid()\n",
    "    axes[i].set_xlabel(r'Time')\n",
    "bbox = (0., 1.02, 1., .102)\n",
    "legend_args = {'bbox_to_anchor': bbox, 'loc': 3, 'mode': 'expand'}\n",
    "p_args = {'lw': 2, 'alpha': 0.7}\n",
    "\n",
    "axes[0].plot(list(range(1, T+1)), income, 'g-', label=\"non-financial income\",\n",
    "             **p_args)\n",
    "axes[0].plot(list(range(T)), c, 'k-', label=\"consumption\", **p_args)\n",
    "axes[0].legend(ncol=2, **legend_args)\n",
    "\n",
    "axes[1].plot(list(range(1, T+1)), np.cumsum(income - mu), 'r-',\n",
    "             label=\"cumulative unanticipated income\", **p_args)\n",
    "axes[1].plot(list(range(T+1)), assets, 'b-', label=\"assets\", **p_args)\n",
    "axes[1].plot(list(range(T)), np.zeros(T), 'k-')\n",
    "axes[1].legend(ncol=2, **legend_args)\n",
    "\n",
    "plt.show()"
   ]
  },
  {
   "cell_type": "markdown",
   "metadata": {},
   "source": [
    "The time path of consumption is much smoother than that for income.\n",
    "\n",
    "(But note that consumption becomes more irregular towards the end of life, when the zero final asset requirement impinges more on consumption choices)\n",
    "\n",
    "The second panel in the figure shows that the time path of assets at is closely correlated with cumulative unanticipated income, which is defined as $z_{t}:=\\sum_{j=0}^{t}\\sigma w_{t} = \\sum_{j=0}^{t}(y_{t} - \\mu)$\n",
    "\n",
    "\n",
    "\n"
   ]
  },
  {
   "cell_type": "markdown",
   "metadata": {},
   "source": [
    "### EXERCISE 4: calculate the correlation between cumulative unanticipated income and the path for assets"
   ]
  },
  {
   "cell_type": "code",
   "execution_count": null,
   "metadata": {
    "collapsed": false
   },
   "outputs": [],
   "source": [
    "# INSERT CODE HERE! Hint: use numpy packages cumsum and corrcoef\n",
    "# you will also need to figure out how to make the two vectors the same length! (assets is shorter)\n",
    "\n",
    "\n"
   ]
  },
  {
   "cell_type": "markdown",
   "metadata": {},
   "source": [
    "A key message is that unanticipated windfall gains are saved rather than consumed, while unanticipated negative shocks are met by reducing assets\n",
    "\n",
    "(Again, this relationship breaks down towards the end of life due to the zero final asset requirement)"
   ]
  },
  {
   "cell_type": "markdown",
   "metadata": {},
   "source": [
    "### EXERCISE 5: increase $\\beta$ from $1/(1+r)≈0.952$ to $0.96$ while keeping other parameters fixed"
   ]
  },
  {
   "cell_type": "code",
   "execution_count": null,
   "metadata": {
    "collapsed": false
   },
   "outputs": [],
   "source": [
    "# == Change our parameters == #\n",
    "# INSERT CODE HERE\n",
    "\n",
    "\n",
    "\n",
    "\n",
    "# == Compute solutions and simulate == #\n",
    "# Call the LQ class and feed it all of our matrices\n",
    "lq = LQ(Q, R, A, B, C, beta=beta, T=T, Rf=Rf)\n",
    "# We need an initial condition\n",
    "x0 = (0, 1)\n",
    "# One of the methods of our class is able to create a simulation\n",
    "xp, up, wp = lq.compute_sequence(x0)\n",
    "\n",
    "# == Convert back to assets, consumption and income == #\n",
    "assets = xp[0, :]           # a_t\n",
    "c = up.flatten() + c_bar    # c_t\n",
    "income = wp[0, 1:] + mu     # y_t\n",
    "\n",
    "# == Plot results == #\n",
    "n_rows = 2\n",
    "fig, axes = plt.subplots(n_rows, 1, figsize=(12, 10))\n",
    "\n",
    "plt.subplots_adjust(hspace=0.5)\n",
    "for i in range(n_rows):\n",
    "    axes[i].grid()\n",
    "    axes[i].set_xlabel(r'Time')\n",
    "bbox = (0., 1.02, 1., .102)\n",
    "legend_args = {'bbox_to_anchor': bbox, 'loc': 3, 'mode': 'expand'}\n",
    "p_args = {'lw': 2, 'alpha': 0.7}\n",
    "\n",
    "axes[0].plot(list(range(1, T+1)), income, 'g-', label=\"non-financial income\",\n",
    "             **p_args)\n",
    "axes[0].plot(list(range(T)), c, 'k-', label=\"consumption\", **p_args)\n",
    "axes[0].legend(ncol=2, **legend_args)\n",
    "\n",
    "axes[1].plot(list(range(1, T+1)), np.cumsum(income - mu), 'r-',\n",
    "             label=\"cumulative unanticipated income\", **p_args)\n",
    "axes[1].plot(list(range(T+1)), assets, 'b-', label=\"assets\", **p_args)\n",
    "axes[1].plot(list(range(T)), np.zeros(T), 'k-')\n",
    "axes[1].legend(ncol=2, **legend_args)\n",
    "\n",
    "plt.show()"
   ]
  },
  {
   "cell_type": "markdown",
   "metadata": {},
   "source": [
    "## EXERCISE 6 What is different from last time?"
   ]
  },
  {
   "cell_type": "markdown",
   "metadata": {},
   "source": [
    "\n",
    "####Hint: compare the plots, and re calculate the correlation between unexpected income and assets \n"
   ]
  },
  {
   "cell_type": "markdown",
   "metadata": {},
   "source": [
    "A: "
   ]
  },
  {
   "cell_type": "code",
   "execution_count": null,
   "metadata": {
    "collapsed": false
   },
   "outputs": [],
   "source": []
  },
  {
   "cell_type": "markdown",
   "metadata": {},
   "source": [
    "# Application: Nonstationary Income"
   ]
  },
  {
   "cell_type": "markdown",
   "metadata": {},
   "source": [
    "One unrealistic feature of that model is the assumption that the mean of the random income process does not depend on the consumer’s age\n",
    "\n",
    "A more realistic income profile is one that rises in early working life, peaks towards the middle and maybe declines toward end of working life, and falls more during retirement\n",
    "\n",
    "In this section, we will model this rise and fall as a symmetric inverted “U” using a polynomial in age"
   ]
  },
  {
   "cell_type": "markdown",
   "metadata": {},
   "source": [
    "   For income we now take $\\mathbf{y_{t}=p(t)+\\boldsymbol{\\sigma} w_{t+1}}$ where $\\mathbf{p(t):=m_{0}+m_{1}t+m_{2}t^{2}}$"
   ]
  },
  {
   "cell_type": "markdown",
   "metadata": {},
   "source": [
    "The coefficients $\\mathbf{m_{0},m_{1},m_{2}}$ are chosen such that $\\mathbf{p(0)=0,p(T/2)=\\mu}$, and $\\mathbf{p(T)=0}$\n",
    "\n",
    "You can confirm that the specification $\\quad \\mathbf{m_{0}=0, \\quad m_{1}=T\\mu /(T/2)^{2}, \\quad m_{2}=−\\mu /(T/2)^{2}} \\quad$ satisfies these constraints"
   ]
  },
  {
   "cell_type": "markdown",
   "metadata": {},
   "source": [
    "To put this into an LQ setting, consider the budget constraint, which becomes:\n",
    "\n",
    "\\begin{equation}\n",
    "a_{t+1}=(1+r)a_{t}−u_{t}−\\bar{c}+m_{1}t+m_{2}t^{2}+\\sigma w_{t+1}\n",
    "\\end{equation}"
   ]
  },
  {
   "cell_type": "markdown",
   "metadata": {},
   "source": [
    "The fact that $a_{t+1}$ is a linear function of $(a_{t},1,t,t^{2})$ suggests taking these four variables as the state vector $x_{t}$\n",
    "\n",
    "Once a good choice of state and control (recall $u_{t}=c_{t}−\\bar{c}$) has been made, the remaining specifications fall into place relatively easily\n",
    "\n",
    "Thus, for the dynamics we set"
   ]
  },
  {
   "cell_type": "markdown",
   "metadata": {},
   "source": [
    "\\begin{equation}\n",
    "x_{t+1}:=\n",
    "\\begin{vmatrix}\n",
    "a_{t+1}\\\\\n",
    "1\\\\\n",
    "t \\\\\n",
    "t^{2}\n",
    "\\end{vmatrix} \\quad A :=\n",
    "\\begin{vmatrix}\n",
    "1+r & -\\bar{c} & m_{1} & m_{2} \\\\\n",
    "0 & 1 & 0 & 0 \\\\\n",
    "0 & 1 & 1 & 0 \\\\\n",
    "0 & 1 & 2 & 1\n",
    "\\end{vmatrix} \\quad B:=\n",
    "\\begin{vmatrix}\n",
    "-1\\\\\n",
    "0 \\\\\n",
    "0\\\\\n",
    "0\n",
    "\\end{vmatrix} \\quad C:=\n",
    "\\begin{vmatrix}\n",
    "\\sigma\\\\\n",
    "0 \\\\\n",
    "0\\\\\n",
    "0\n",
    "\\end{vmatrix}\n",
    "\\end{equation}"
   ]
  },
  {
   "cell_type": "markdown",
   "metadata": {},
   "source": [
    "To implement the preference specification we take:\n",
    "\n"
   ]
  },
  {
   "cell_type": "markdown",
   "metadata": {},
   "source": [
    "\\begin{equation}\n",
    "Q:= 1 \\quad\n",
    "R:=\n",
    "\\begin{vmatrix}\n",
    "0 & 0 & 0 & 0\\\\\n",
    "0 & 0 & 0 & 0\\\\\n",
    "0 & 0 & 0 & 0 \\\\\n",
    "0 & 0 & 0 & 0\n",
    "\\end{vmatrix} \\quad R_{f} :=\n",
    "\\begin{vmatrix}\n",
    "q & 0 & 0 & 0\\\\\n",
    "0 & 0 & 0 & 0\\\\\n",
    "0 & 0 & 0 & 0 \\\\\n",
    "0 & 0 & 0 & 0\n",
    "\\end{vmatrix}\n",
    "\\end{equation}"
   ]
  },
  {
   "cell_type": "markdown",
   "metadata": {},
   "source": [
    "## EXERCISE 7: Implement this life-cycle specification by changing the code below. "
   ]
  },
  {
   "cell_type": "markdown",
   "metadata": {},
   "source": [
    "####You will need to code the matrices as before and using parts of the code above, changing relevant parts to solve the model and plot the simulated data"
   ]
  },
  {
   "cell_type": "code",
   "execution_count": null,
   "metadata": {
    "collapsed": false
   },
   "outputs": [],
   "source": [
    "# == Model parameters == #\n",
    "r       = 0.05\n",
    "beta    = 1 / (1 + r)\n",
    "T       = 50\n",
    "c_bar   = 1.5\n",
    "sigma   = 0.15\n",
    "mu      = 2\n",
    "q       = 1e4\n",
    "m1      = T * (mu / (T/2)**2)\n",
    "m2      = - (mu / (T/2)**2)\n",
    "\n",
    "# == Formulate as an LQ problem == #\n",
    "# INSERT CODE HERE!##########################################################################################\n",
    "\n",
    "\n",
    "\n",
    "\n",
    "\n",
    "\n",
    "\n",
    "\n",
    "\n",
    "\n",
    "\n",
    "###############################################################################################################\n",
    "\n",
    "\n",
    "# == Compute solutions and simulate == #\n",
    "# INSERT CODE HERE!##########################################################################################\n",
    "\n",
    "\n",
    "\n",
    "\n",
    "\n",
    "##############################################################################################################\n",
    "\n",
    "# == Convert results back to assets, consumption and income == #\n",
    "ap = xp[0, :]               # Assets\n",
    "c = up.flatten() + c_bar    # Consumption\n",
    "time = np.arange(1, T+1)\n",
    "income = wp[0, 1:] + m1 * time + m2 * time**2  # Income\n",
    "\n",
    "\n",
    "# == Plot results == #\n",
    "# INSERT CODE HERE!##########################################################################################\n",
    "\n",
    "\n",
    "\n",
    "\n",
    "\n",
    "\n",
    "\n",
    "\n",
    "\n",
    "\n",
    "\n",
    "\n",
    "\n",
    "\n",
    "\n",
    "\n",
    "\n",
    "\n",
    "\n",
    "\n",
    "###############################################################################################################"
   ]
  },
  {
   "cell_type": "markdown",
   "metadata": {},
   "source": [
    "## EXERCISE 8: does it exhibit consumption smoothing? Is it consistent with life-cyle theory?\n"
   ]
  },
  {
   "cell_type": "markdown",
   "metadata": {},
   "source": [
    "A: "
   ]
  },
  {
   "cell_type": "code",
   "execution_count": null,
   "metadata": {
    "collapsed": true
   },
   "outputs": [],
   "source": []
  },
  {
   "cell_type": "markdown",
   "metadata": {},
   "source": [
    "##Application: Hall's Permanent Income Model in Infinite Time"
   ]
  },
  {
   "cell_type": "markdown",
   "metadata": {},
   "source": [
    "\\begin{align}\n",
    "a_{t+1} +  c_{t} & = (1+r)ra_{t} + y_{t} \\\\\n",
    "y_{t} & = \\mu_{y}(1-\\rho)  + \\rho y_{t-1} + \\sigma(w_{t+1})\n",
    "\\end{align}"
   ]
  },
  {
   "cell_type": "markdown",
   "metadata": {},
   "source": [
    "Map this into a linear regulator problem by taking \n",
    " $u_{t} = c_{t}-\\bar{c}$ as the control \n",
    "  $x_{t} = [1 \\; a_{t+1}  y_{t}]'$ as the state. Solve the model and simulate, then plot 2 graphs: on one, consumption and non-financial income; on the other, assets."
   ]
  },
  {
   "cell_type": "code",
   "execution_count": null,
   "metadata": {
    "collapsed": true
   },
   "outputs": [],
   "source": [
    "# == Model parameters == #\n",
    "# c_bar is 'bliss level' consumption\n",
    "c_bar = 32.0\n",
    "# (1+r) is time invariant gross rate of return on financial assets a_{t-1}\n",
    "# (1+r) = 1/beta following Hansen, Sargent and Tallarini (1999)\n",
    "beta = 0.9971\n",
    "r = (1.0/beta)-1\n",
    "#rho is persistence of endowment process\n",
    "rho = 0.9992\n",
    "#mu_d constant term in endowment process - https://files.nyu.edu/ts43/public/research/AP_tom16.pdf\n",
    "mu_d = 13.710\n",
    "#c_d is constant on stochastic part of endowment process\n",
    "sigma = 5.5819\n",
    "\n",
    "\n",
    "# == Formulate as an LQ problem == #\n",
    "# INSERT CODE HERE!##########################################################################################\n",
    "\n",
    "\n",
    "\n",
    "\n",
    "\n",
    "\n",
    "\n",
    "\n",
    "\n",
    "##############################################################################################################\n",
    "# == Compute solutions and simulate == #\n",
    "#T is now the length of the simulation, rather than being passed to the LQ class\n",
    "T=100\n",
    "# INSERT CODE HERE!##########################################################################################\n",
    "\n",
    "\n",
    "\n",
    "\n",
    "# == Convert back to assets, consumption and income == #\n",
    "\n",
    "\n",
    "\n",
    "\n",
    "# == Plot results == #\n",
    "\n",
    "\n",
    "\n",
    "\n",
    "\n",
    "\n",
    "\n",
    "\n",
    "\n",
    "\n",
    "\n",
    "\n",
    "\n",
    "\n",
    "\n",
    "\n",
    "\n",
    "##############################################################################################################"
   ]
  },
  {
   "cell_type": "markdown",
   "metadata": {
    "collapsed": true
   },
   "source": [
    "## Application: A Permanent Income Model with Retirement¶"
   ]
  },
  {
   "cell_type": "markdown",
   "metadata": {},
   "source": [
    "Exercise 2, from here: http://quant-econ.net/py/lqcontrol.html#solution-lqc-ex2-fig"
   ]
  },
  {
   "cell_type": "code",
   "execution_count": null,
   "metadata": {
    "collapsed": true
   },
   "outputs": [],
   "source": []
  },
  {
   "cell_type": "markdown",
   "metadata": {},
   "source": [
    "## Application: Monopoly with Adjustment Costs"
   ]
  },
  {
   "cell_type": "markdown",
   "metadata": {},
   "source": [
    "Exercise 3, from here: http://quant-econ.net/py/lqcontrol.html#solution-lqc-ex2-fig"
   ]
  },
  {
   "cell_type": "code",
   "execution_count": null,
   "metadata": {
    "collapsed": true
   },
   "outputs": [],
   "source": []
  }
 ],
 "metadata": {
  "kernelspec": {
   "display_name": "Python 2",
   "language": "python",
   "name": "python2"
  },
  "language_info": {
   "codemirror_mode": {
    "name": "ipython",
    "version": 2
   },
   "file_extension": ".py",
   "mimetype": "text/x-python",
   "name": "python",
   "nbconvert_exporter": "python",
   "pygments_lexer": "ipython2",
   "version": "2.7.9"
  }
 },
 "nbformat": 4,
 "nbformat_minor": 0
}
